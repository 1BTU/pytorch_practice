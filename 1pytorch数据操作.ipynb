{
 "cells": [
  {
   "cell_type": "code",
   "execution_count": 3,
   "metadata": {
    "collapsed": true,
    "ExecuteTime": {
     "start_time": "2023-07-11T09:45:18.744233Z",
     "end_time": "2023-07-11T09:45:18.769106Z"
    }
   },
   "outputs": [
    {
     "name": "stdout",
     "output_type": "stream",
     "text": [
      "a:\n",
      " tensor([[0.8387, 0.5755, 0.1188],\n",
      "        [0.8813, 0.6266, 0.0367]])\n",
      "b:\n",
      " tensor([[0.3065, 0.1949, 0.4205],\n",
      "        [0.0219, 0.2026, 0.4831]])\n",
      "a+b:\n",
      " tensor([[1.1452, 0.7705, 0.5393],\n",
      "        [0.9032, 0.8291, 0.5198]])\n",
      "add:\n",
      " tensor([[1.1452, 0.7705, 0.5393],\n",
      "        [0.9032, 0.8291, 0.5198]])\n",
      "b:\n",
      " tensor([[0.3065, 0.1949, 0.4205],\n",
      "        [0.0219, 0.2026, 0.4831]])\n",
      "\n",
      "add_:\n",
      " tensor([[1.1452, 0.7705, 0.5393],\n",
      "        [0.9032, 0.8291, 0.5198]])\n",
      "b:\n",
      " tensor([[1.1452, 0.7705, 0.5393],\n",
      "        [0.9032, 0.8291, 0.5198]])\n"
     ]
    }
   ],
   "source": [
    "import torch\n",
    "a = torch.rand(2,3)\n",
    "b = torch.rand(2,3)\n",
    "print(\"a:\\n\",a)\n",
    "print(\"b:\\n\",b)\n",
    "print(\"a+b:\\n\",a+b)\n",
    "\n",
    "b.add(a)\n",
    "print(\"add:\\n\",b.add(a))\n",
    "print(\"b:\\n\",b)\n",
    "print(\"\")\n",
    "\n",
    "print(\"add_:\\n\",b.add_(a))\n",
    "print(\"b:\\n\",b)"
   ]
  },
  {
   "cell_type": "markdown",
   "source": [
    "## 获取大小"
   ],
   "metadata": {
    "collapsed": false
   }
  },
  {
   "cell_type": "code",
   "execution_count": 8,
   "outputs": [
    {
     "name": "stdout",
     "output_type": "stream",
     "text": [
      "tensor([[0.0290, 0.4257, 0.6223, 0.3764, 0.7471],\n",
      "        [0.9541, 0.6205, 0.3415, 0.7945, 0.9092],\n",
      "        [0.8704, 0.3845, 0.0880, 0.1960, 0.5689],\n",
      "        [0.3270, 0.7636, 0.1450, 0.4438, 0.2238]])\n",
      "torch.Size([4, 5])\n",
      "torch.Size([4, 5])\n",
      "\n",
      "The first row:\n",
      " tensor([0.0290, 0.4257, 0.6223, 0.3764, 0.7471])\n",
      "The third col:\n",
      " tensor([0.6223, 0.3415, 0.0880, 0.1450])\n"
     ]
    }
   ],
   "source": [
    "import torch\n",
    "a = torch.rand(4,5)\n",
    "print(a)\n",
    "print(a.size())\n",
    "print(a.shape)\n",
    "print(\"\")\n",
    "\n",
    "print(\"The first row:\\n\",a[0,:])\n",
    "print(\"The third col:\\n\",a[:,2])"
   ],
   "metadata": {
    "collapsed": false,
    "ExecuteTime": {
     "start_time": "2023-07-11T09:49:25.463855Z",
     "end_time": "2023-07-11T09:49:25.475458Z"
    }
   }
  },
  {
   "cell_type": "markdown",
   "source": [
    "## 改变形状"
   ],
   "metadata": {
    "collapsed": false
   }
  },
  {
   "cell_type": "code",
   "execution_count": 10,
   "outputs": [
    {
     "name": "stdout",
     "output_type": "stream",
     "text": [
      "torch.Size([4, 5])\n",
      "torch.Size([20])\n",
      "torch.Size([2, 10])\n",
      "torch.Size([10, 2])\n"
     ]
    }
   ],
   "source": [
    "x = torch.rand(4,5)\n",
    "print(x.size())\n",
    "\n",
    "y = x.clone().view(20)\n",
    "print(y.size())\n",
    "\n",
    "y = x.clone().view(-1,10)\n",
    "print(y.size())\n",
    "\n",
    "y = x.clone().view(10,-1)\n",
    "print(y.size())"
   ],
   "metadata": {
    "collapsed": false,
    "ExecuteTime": {
     "start_time": "2023-07-11T09:51:50.415069Z",
     "end_time": "2023-07-11T09:51:50.434786Z"
    }
   }
  },
  {
   "cell_type": "markdown",
   "source": [
    "## 广播机制"
   ],
   "metadata": {
    "collapsed": false
   }
  },
  {
   "cell_type": "code",
   "execution_count": 11,
   "outputs": [
    {
     "name": "stdout",
     "output_type": "stream",
     "text": [
      "x:\n",
      " tensor([[1, 2]])\n",
      "y:\n",
      " tensor([[1],\n",
      "        [2],\n",
      "        [3]])\n",
      "x+y:\n",
      " tensor([[2, 3],\n",
      "        [3, 4],\n",
      "        [4, 5]])\n"
     ]
    }
   ],
   "source": [
    "x = torch.arange(1,3).view(1,2)\n",
    "y = torch.arange(1,4).view(3,1)\n",
    "print(\"x:\\n\",x)\n",
    "print(\"y:\\n\",y)\n",
    "print(\"x+y:\\n\",torch.add(x,y))"
   ],
   "metadata": {
    "collapsed": false,
    "ExecuteTime": {
     "start_time": "2023-07-11T09:53:51.303348Z",
     "end_time": "2023-07-11T09:53:51.316218Z"
    }
   }
  },
  {
   "cell_type": "markdown",
   "source": [
    "## 连接"
   ],
   "metadata": {
    "collapsed": false
   }
  },
  {
   "cell_type": "code",
   "execution_count": 12,
   "outputs": [
    {
     "name": "stdout",
     "output_type": "stream",
     "text": [
      "X:\n",
      " tensor([[ 0.,  1.,  2.,  3.],\n",
      "        [ 4.,  5.,  6.,  7.],\n",
      "        [ 8.,  9., 10., 11.]])\n",
      "Y:\n",
      " tensor([[2, 1, 4, 3],\n",
      "        [1, 2, 3, 4],\n",
      "        [4, 3, 2, 1]])\n",
      "accroding tor row:\n",
      " tensor([[ 0.,  1.,  2.,  3.],\n",
      "        [ 4.,  5.,  6.,  7.],\n",
      "        [ 8.,  9., 10., 11.],\n",
      "        [ 2.,  1.,  4.,  3.],\n",
      "        [ 1.,  2.,  3.,  4.],\n",
      "        [ 4.,  3.,  2.,  1.]])\n",
      "accroding tor col:\n",
      " tensor([[ 0.,  1.,  2.,  3.,  2.,  1.,  4.,  3.],\n",
      "        [ 4.,  5.,  6.,  7.,  1.,  2.,  3.,  4.],\n",
      "        [ 8.,  9., 10., 11.,  4.,  3.,  2.,  1.]])\n"
     ]
    }
   ],
   "source": [
    "X = torch.arange(12,dtype=torch.float32).reshape((3,4))\n",
    "Y = torch.tensor([[2,1,4,3],[1,2,3,4],[4,3,2,1]])\n",
    "print(\"X:\\n\",X)\n",
    "print(\"Y:\\n\",Y)\n",
    "res1 = torch.cat((X,Y),dim=0)\n",
    "res2 = torch.cat((X,Y),dim=1)\n",
    "print(\"accroding tor row:\\n\",res1)\n",
    "print(\"accroding tor col:\\n\",res2)"
   ],
   "metadata": {
    "collapsed": false,
    "ExecuteTime": {
     "start_time": "2023-07-11T09:57:37.992069Z",
     "end_time": "2023-07-11T09:57:38.004888Z"
    }
   }
  },
  {
   "cell_type": "markdown",
   "source": [
    "## 内存开销"
   ],
   "metadata": {
    "collapsed": false
   }
  },
  {
   "cell_type": "code",
   "execution_count": 14,
   "outputs": [
    {
     "name": "stdout",
     "output_type": "stream",
     "text": [
      "1961734599520\n",
      "1961734601840\n",
      "1961734601840\n",
      "1961734601840\n",
      "1961734599520\n"
     ]
    }
   ],
   "source": [
    "x = torch.arange(1,3)\n",
    "y = torch.arange(2,4)\n",
    "id_before = id(y)\n",
    "\n",
    "print(id(y))#1961734599520\n",
    "y = y+x\n",
    "print(id(y))#1961734601840\n",
    "\n",
    "y[:] = y+x\n",
    "print(id(y))#1961734601840\n",
    "\n",
    "torch.add(x,y,out=y)\n",
    "print(id(y)) #1961734601840\n",
    "print(id_before)"
   ],
   "metadata": {
    "collapsed": false,
    "ExecuteTime": {
     "start_time": "2023-07-11T10:03:43.506921Z",
     "end_time": "2023-07-11T10:03:43.524990Z"
    }
   }
  },
  {
   "cell_type": "code",
   "execution_count": null,
   "outputs": [],
   "source": [],
   "metadata": {
    "collapsed": false
   }
  }
 ],
 "metadata": {
  "kernelspec": {
   "name": "pytorch1.9_jupyter",
   "language": "python",
   "display_name": "pytorch1.9_jupyter"
  },
  "language_info": {
   "codemirror_mode": {
    "name": "ipython",
    "version": 2
   },
   "file_extension": ".py",
   "mimetype": "text/x-python",
   "name": "python",
   "nbconvert_exporter": "python",
   "pygments_lexer": "ipython2",
   "version": "2.7.6"
  }
 },
 "nbformat": 4,
 "nbformat_minor": 0
}
